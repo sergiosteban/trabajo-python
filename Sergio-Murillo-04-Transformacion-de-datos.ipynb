{
 "cells": [
  {
   "cell_type": "markdown",
   "metadata": {},
   "source": [
    "# Leer  un archivos tipo .CSV"
   ]
  },
  {
   "cell_type": "code",
   "execution_count": 149,
   "metadata": {},
   "outputs": [
    {
     "data": {
      "text/plain": [
       "['t,srcuser,srchost,dstuser,dsthost,size\\n',\n",
       " ' 2006-05-11 10:15:08,barb,saturn,tricia,mars,58274\\n',\n",
       " ' 2006-05-12 12:48:13,tricia,mars,gene,venus,194925\\n',\n",
       " ' 2006-05-12 15:02:49,phil,mars,phil,saturn,1048\\n',\n",
       " ' 2006-05-13 13:59:18,barb,saturn,tricia,venus,271\\n',\n",
       " ' 2006-05-14 09:31:37,gene,venus,barb,mars,2291\\n',\n",
       " ' 2006-05-14 11:52:17,phil,mars,tricia,saturn,5781\\n',\n",
       " ' 2006-05-14 14:42:21,barb,venus,barb,venus,98151\\n',\n",
       " ' 2006-05-14 17:03:01,tricia,saturn,phil,venus,2394482\\n',\n",
       " ' 2006-05-15 07:17:48,gene,mars,gene,saturn,3824\\n',\n",
       " ' 2006-05-15 08:50:57,phil,venus,phil,venus,978\\n',\n",
       " ' 2006-05-15 10:25:52,gene,mars,tricia,saturn,998532\\n',\n",
       " ' 2006-05-15 17:35:31,gene,saturn,gene,mars,3856\\n',\n",
       " ' 2006-05-16 09:00:28,gene,venus,barb,mars,613\\n',\n",
       " ' 2006-05-16 23:04:19,phil,venus,barb,venus,10294\\n',\n",
       " ' 2006-05-17 12:49:23,phil,mars,tricia,saturn,873\\n',\n",
       " ' 2006-05-19 22:21:51,gene,saturn,gene,venus,23992']"
      ]
     },
     "execution_count": 149,
     "metadata": {},
     "output_type": "execute_result"
    }
   ],
   "source": [
    "file = open('archivos/file.csv','r').readlines()\n",
    "#Imprimir el contenido del archivo\n",
    "\n",
    "file"
   ]
  },
  {
   "cell_type": "markdown",
   "metadata": {},
   "source": [
    "> Para eliminar los **\\n** al final de cada linea"
   ]
  },
  {
   "cell_type": "code",
   "execution_count": 150,
   "metadata": {},
   "outputs": [
    {
     "data": {
      "text/plain": [
       "['t,srcuser,srchost,dstuser,dsthost,size',\n",
       " ' 2006-05-11 10:15:08,barb,saturn,tricia,mars,58274',\n",
       " ' 2006-05-12 12:48:13,tricia,mars,gene,venus,194925',\n",
       " ' 2006-05-12 15:02:49,phil,mars,phil,saturn,1048',\n",
       " ' 2006-05-13 13:59:18,barb,saturn,tricia,venus,271',\n",
       " ' 2006-05-14 09:31:37,gene,venus,barb,mars,2291',\n",
       " ' 2006-05-14 11:52:17,phil,mars,tricia,saturn,5781',\n",
       " ' 2006-05-14 14:42:21,barb,venus,barb,venus,98151',\n",
       " ' 2006-05-14 17:03:01,tricia,saturn,phil,venus,2394482',\n",
       " ' 2006-05-15 07:17:48,gene,mars,gene,saturn,3824',\n",
       " ' 2006-05-15 08:50:57,phil,venus,phil,venus,978',\n",
       " ' 2006-05-15 10:25:52,gene,mars,tricia,saturn,998532',\n",
       " ' 2006-05-15 17:35:31,gene,saturn,gene,mars,3856',\n",
       " ' 2006-05-16 09:00:28,gene,venus,barb,mars,613',\n",
       " ' 2006-05-16 23:04:19,phil,venus,barb,venus,10294',\n",
       " ' 2006-05-17 12:49:23,phil,mars,tricia,saturn,873',\n",
       " ' 2006-05-19 22:21:51,gene,saturn,gene,venus,2399']"
      ]
     },
     "execution_count": 150,
     "metadata": {},
     "output_type": "execute_result"
    }
   ],
   "source": [
    "file =[fila[0:-1] for fila in file]\n",
    "file"
   ]
  },
  {
   "cell_type": "code",
   "execution_count": 156,
   "metadata": {},
   "outputs": [
    {
     "data": {
      "text/plain": [
       "[[' 2006-05-11 10:15:08', 'barb', 'saturn', 'tricia', 'mars', '58274'],\n",
       " [' 2006-05-12 12:48:13', 'tricia', 'mars', 'gene', 'venus', '194925'],\n",
       " [' 2006-05-12 15:02:49', 'phil', 'mars', 'phil', 'saturn', '1048'],\n",
       " [' 2006-05-13 13:59:18', 'barb', 'saturn', 'tricia', 'venus', '271'],\n",
       " [' 2006-05-14 09:31:37', 'gene', 'venus', 'barb', 'mars', '2291'],\n",
       " [' 2006-05-14 11:52:17', 'phil', 'mars', 'tricia', 'saturn', '5781'],\n",
       " [' 2006-05-14 14:42:21', 'barb', 'venus', 'barb', 'venus', '98151'],\n",
       " [' 2006-05-14 17:03:01', 'tricia', 'saturn', 'phil', 'venus', '2394482'],\n",
       " [' 2006-05-15 07:17:48', 'gene', 'mars', 'gene', 'saturn', '3824'],\n",
       " [' 2006-05-15 08:50:57', 'phil', 'venus', 'phil', 'venus', '978'],\n",
       " [' 2006-05-15 10:25:52', 'gene', 'mars', 'tricia', 'saturn', '998532'],\n",
       " [' 2006-05-15 17:35:31', 'gene', 'saturn', 'gene', 'mars', '3856'],\n",
       " [' 2006-05-16 09:00:28', 'gene', 'venus', 'barb', 'mars', '613'],\n",
       " [' 2006-05-16 23:04:19', 'phil', 'venus', 'barb', 'venus', '10294'],\n",
       " [' 2006-05-17 12:49:23', 'phil', 'mars', 'tricia', 'saturn', '873'],\n",
       " [' 2006-05-19 22:21:51', 'gene', 'saturn', 'gene', 'venus', '2399']]"
      ]
     },
     "execution_count": 156,
     "metadata": {},
     "output_type": "execute_result"
    }
   ],
   "source": [
    "#Partir archivo por ','\n",
    "file = [campo.split(',') for campo in file]\n",
    "file"
   ]
  },
  {
   "cell_type": "code",
   "execution_count": 157,
   "metadata": {},
   "outputs": [
    {
     "data": {
      "text/plain": [
       "[[' 2006-05-12 12:48:13', 'tricia', 'mars', 'gene', 'venus', '194925'],\n",
       " [' 2006-05-12 15:02:49', 'phil', 'mars', 'phil', 'saturn', '1048'],\n",
       " [' 2006-05-13 13:59:18', 'barb', 'saturn', 'tricia', 'venus', '271'],\n",
       " [' 2006-05-14 09:31:37', 'gene', 'venus', 'barb', 'mars', '2291'],\n",
       " [' 2006-05-14 11:52:17', 'phil', 'mars', 'tricia', 'saturn', '5781'],\n",
       " [' 2006-05-14 14:42:21', 'barb', 'venus', 'barb', 'venus', '98151'],\n",
       " [' 2006-05-14 17:03:01', 'tricia', 'saturn', 'phil', 'venus', '2394482'],\n",
       " [' 2006-05-15 07:17:48', 'gene', 'mars', 'gene', 'saturn', '3824'],\n",
       " [' 2006-05-15 08:50:57', 'phil', 'venus', 'phil', 'venus', '978'],\n",
       " [' 2006-05-15 10:25:52', 'gene', 'mars', 'tricia', 'saturn', '998532'],\n",
       " [' 2006-05-15 17:35:31', 'gene', 'saturn', 'gene', 'mars', '3856'],\n",
       " [' 2006-05-16 09:00:28', 'gene', 'venus', 'barb', 'mars', '613'],\n",
       " [' 2006-05-16 23:04:19', 'phil', 'venus', 'barb', 'venus', '10294'],\n",
       " [' 2006-05-17 12:49:23', 'phil', 'mars', 'tricia', 'saturn', '873'],\n",
       " [' 2006-05-19 22:21:51', 'gene', 'saturn', 'gene', 'venus', '2399']]"
      ]
     },
     "execution_count": 157,
     "metadata": {},
     "output_type": "execute_result"
    }
   ],
   "source": [
    "file = file[1:]\n",
    "file"
   ]
  },
  {
   "cell_type": "markdown",
   "metadata": {},
   "source": [
    "# Seleccion de columnas en posicion deseada"
   ]
  },
  {
   "cell_type": "code",
   "execution_count": 158,
   "metadata": {},
   "outputs": [
    {
     "data": {
      "text/plain": [
       "[[' 2006-05-12 12:48:13', 'mars', 'tricia', 'venus', '194925', 'gene'],\n",
       " [' 2006-05-12 15:02:49', 'mars', 'phil', 'saturn', '1048', 'phil'],\n",
       " [' 2006-05-13 13:59:18', 'saturn', 'barb', 'venus', '271', 'tricia'],\n",
       " [' 2006-05-14 09:31:37', 'venus', 'gene', 'mars', '2291', 'barb'],\n",
       " [' 2006-05-14 11:52:17', 'mars', 'phil', 'saturn', '5781', 'tricia'],\n",
       " [' 2006-05-14 14:42:21', 'venus', 'barb', 'venus', '98151', 'barb'],\n",
       " [' 2006-05-14 17:03:01', 'saturn', 'tricia', 'venus', '2394482', 'phil'],\n",
       " [' 2006-05-15 07:17:48', 'mars', 'gene', 'saturn', '3824', 'gene'],\n",
       " [' 2006-05-15 08:50:57', 'venus', 'phil', 'venus', '978', 'phil'],\n",
       " [' 2006-05-15 10:25:52', 'mars', 'gene', 'saturn', '998532', 'tricia'],\n",
       " [' 2006-05-15 17:35:31', 'saturn', 'gene', 'mars', '3856', 'gene'],\n",
       " [' 2006-05-16 09:00:28', 'venus', 'gene', 'mars', '613', 'barb'],\n",
       " [' 2006-05-16 23:04:19', 'venus', 'phil', 'venus', '10294', 'barb'],\n",
       " [' 2006-05-17 12:49:23', 'mars', 'phil', 'saturn', '873', 'tricia'],\n",
       " [' 2006-05-19 22:21:51', 'saturn', 'gene', 'venus', '2399', 'gene']]"
      ]
     },
     "execution_count": 158,
     "metadata": {},
     "output_type": "execute_result"
    }
   ],
   "source": [
    "# Selección de columnas en diferente orden\n",
    "\n",
    "[[row[0], row[2], row[1],row[4], row[5] ,row[3]] for row in file]"
   ]
  },
  {
   "cell_type": "markdown",
   "metadata": {},
   "source": [
    "# Seleccion de filas"
   ]
  },
  {
   "cell_type": "code",
   "execution_count": 127,
   "metadata": {},
   "outputs": [
    {
     "data": {
      "text/plain": [
       "[[' 2006-05-14 09:31:37', 'venus', 'gene', 'mars', '2291', 'barb'],\n",
       " [' 2006-05-14 14:42:21', 'venus', 'barb', 'venus', '98151', 'barb'],\n",
       " [' 2006-05-15 08:50:57', 'venus', 'phil', 'venus', '978', 'phil'],\n",
       " [' 2006-05-16 09:00:28', 'venus', 'gene', 'mars', '613', 'barb'],\n",
       " [' 2006-05-16 23:04:19', 'venus', 'phil', 'venus', '10294', 'barb']]"
      ]
     },
     "execution_count": 127,
     "metadata": {},
     "output_type": "execute_result"
    }
   ],
   "source": [
    "# Seleccion de columna y fila donde srchost = 'venus'\n",
    "\n",
    "[[row[0],row[2],row[1],row[4],row[5],row[3],]for row in file if row[2]=='venus']"
   ]
  },
  {
   "cell_type": "markdown",
   "metadata": {},
   "source": [
    "> Usando libreria de re\n"
   ]
  },
  {
   "cell_type": "code",
   "execution_count": 160,
   "metadata": {},
   "outputs": [
    {
     "data": {
      "text/plain": [
       "[[' 2006-05-13 13:59:18', 'barb', 'saturn', 'tricia'],\n",
       " [' 2006-05-14 17:03:01', 'tricia', 'saturn', 'phil'],\n",
       " [' 2006-05-15 17:35:31', 'gene', 'saturn', 'gene'],\n",
       " [' 2006-05-19 22:21:51', 'gene', 'saturn', 'gene']]"
      ]
     },
     "execution_count": 160,
     "metadata": {},
     "output_type": "execute_result"
    }
   ],
   "source": [
    "import re\n",
    "[[row[0],row[1],row[2],row[3],]for row in file if  re.search('^s',row[2])]"
   ]
  },
  {
   "cell_type": "code",
   "execution_count": 159,
   "metadata": {},
   "outputs": [
    {
     "data": {
      "text/plain": [
       "[[' 2006-05-13 13:59:18', 'barb', 'saturn']]"
      ]
     },
     "execution_count": 159,
     "metadata": {},
     "output_type": "execute_result"
    }
   ],
   "source": [
    "[[row[0],row[1],row[2]]for row in file if row[1]=='barb'and row[3]=='tricia'] # validacion con mas campos\n"
   ]
  },
  {
   "cell_type": "markdown",
   "metadata": {},
   "source": [
    "# Combinacion de columnas\n"
   ]
  },
  {
   "cell_type": "code",
   "execution_count": 162,
   "metadata": {},
   "outputs": [
    {
     "data": {
      "text/plain": [
       "[[' 2006-05-12 12:48:13', 'tricia@mars', 'gene@venus'],\n",
       " [' 2006-05-12 15:02:49', 'phil@mars', 'phil@saturn'],\n",
       " [' 2006-05-13 13:59:18', 'barb@saturn', 'tricia@venus'],\n",
       " [' 2006-05-14 09:31:37', 'gene@venus', 'barb@mars'],\n",
       " [' 2006-05-14 11:52:17', 'phil@mars', 'tricia@saturn'],\n",
       " [' 2006-05-14 14:42:21', 'barb@venus', 'barb@venus'],\n",
       " [' 2006-05-14 17:03:01', 'tricia@saturn', 'phil@venus'],\n",
       " [' 2006-05-15 07:17:48', 'gene@mars', 'gene@saturn'],\n",
       " [' 2006-05-15 08:50:57', 'phil@venus', 'phil@venus'],\n",
       " [' 2006-05-15 10:25:52', 'gene@mars', 'tricia@saturn'],\n",
       " [' 2006-05-15 17:35:31', 'gene@saturn', 'gene@mars'],\n",
       " [' 2006-05-16 09:00:28', 'gene@venus', 'barb@mars'],\n",
       " [' 2006-05-16 23:04:19', 'phil@venus', 'barb@venus'],\n",
       " [' 2006-05-17 12:49:23', 'phil@mars', 'tricia@saturn'],\n",
       " [' 2006-05-19 22:21:51', 'gene@saturn', 'gene@venus']]"
      ]
     },
     "execution_count": 162,
     "metadata": {},
     "output_type": "execute_result"
    }
   ],
   "source": [
    "[[row[0], row[1] + '@'+ row[2],row[3] + '@'+ row[4]] for row in file]"
   ]
  },
  {
   "cell_type": "markdown",
   "metadata": {},
   "source": [
    "# Seleccion condicional"
   ]
  },
  {
   "cell_type": "code",
   "execution_count": 166,
   "metadata": {},
   "outputs": [
    {
     "data": {
      "text/plain": [
       "[[' 2006-05-14 17:03:01', 'tricia', 'saturn', 'phil', 'venus', '2394482'],\n",
       " [' 2006-05-15 10:25:52', 'gene', 'mars', 'tricia', 'saturn', '998532']]"
      ]
     },
     "execution_count": 166,
     "metadata": {},
     "output_type": "execute_result"
    }
   ],
   "source": [
    "[row for row in file if float(row[5])/1024 > 500]"
   ]
  },
  {
   "cell_type": "markdown",
   "metadata": {},
   "source": [
    "# Remoción de duplicados"
   ]
  },
  {
   "cell_type": "code",
   "execution_count": 167,
   "metadata": {},
   "outputs": [
    {
     "data": {
      "text/plain": [
       "['tricia',\n",
       " 'phil',\n",
       " 'barb',\n",
       " 'gene',\n",
       " 'phil',\n",
       " 'barb',\n",
       " 'tricia',\n",
       " 'gene',\n",
       " 'phil',\n",
       " 'gene',\n",
       " 'gene',\n",
       " 'gene',\n",
       " 'phil',\n",
       " 'phil',\n",
       " 'gene']"
      ]
     },
     "execution_count": 167,
     "metadata": {},
     "output_type": "execute_result"
    }
   ],
   "source": [
    "[row[1] for row in file]"
   ]
  },
  {
   "cell_type": "code",
   "execution_count": 168,
   "metadata": {},
   "outputs": [
    {
     "data": {
      "text/plain": [
       "{'barb', 'gene', 'phil', 'tricia'}"
      ]
     },
     "execution_count": 168,
     "metadata": {},
     "output_type": "execute_result"
    }
   ],
   "source": [
    "set([row[1]for row in file]) # Sacamos valores que no esten repetidos"
   ]
  },
  {
   "cell_type": "code",
   "execution_count": 169,
   "metadata": {},
   "outputs": [
    {
     "data": {
      "text/plain": [
       "4"
      ]
     },
     "execution_count": 169,
     "metadata": {},
     "output_type": "execute_result"
    }
   ],
   "source": [
    "len(set([row[1]for row in file])) #Nos entrega la cantidad de valores no repetidos"
   ]
  },
  {
   "cell_type": "markdown",
   "metadata": {},
   "source": [
    "# Manejo de NULL "
   ]
  },
  {
   "cell_type": "code",
   "execution_count": 175,
   "metadata": {},
   "outputs": [
    {
     "data": {
      "text/plain": [
       "[['name', 'id'],\n",
       " ['bernina', '198-48'],\n",
       " ['berta', 'NULL'],\n",
       " ['ben', 'NULL'],\n",
       " ['bill', '475-']]"
      ]
     },
     "execution_count": 175,
     "metadata": {},
     "output_type": "execute_result"
    }
   ],
   "source": [
    "taxpayer = open('archivos/taxpayer.csv','r').readlines();\n",
    "taxpayer = [row[0:-1] for row in taxpayer]\n",
    "taxpayer = [row.split(',') for row in taxpayer]\n",
    "\n",
    "taxpayer"
   ]
  },
  {
   "cell_type": "code",
   "execution_count": 188,
   "metadata": {},
   "outputs": [
    {
     "data": {
      "text/plain": [
       "[['name', 'id'],\n",
       " ['bernina', '198-48'],\n",
       " ['berta', None],\n",
       " ['ben', None],\n",
       " ['bill', '475-']]"
      ]
     },
     "execution_count": 188,
     "metadata": {},
     "output_type": "execute_result"
    }
   ],
   "source": [
    "taxpayer = [[element if element != 'NULL' else None for element in row]for row in taxpayer] #Cambio a los NULL por None\n",
    "taxpayer"
   ]
  },
  {
   "cell_type": "code",
   "execution_count": 190,
   "metadata": {},
   "outputs": [
    {
     "data": {
      "text/plain": [
       "[['name', 'id'], ['bernina', '198-48'], ['bill', '475-']]"
      ]
     },
     "execution_count": 190,
     "metadata": {},
     "output_type": "execute_result"
    }
   ],
   "source": [
    "#Discrimino los valores que tienen nulll\n",
    "[row for row in taxpayer if row[1] is not None]"
   ]
  },
  {
   "cell_type": "markdown",
   "metadata": {},
   "source": [
    "# ORDENAMIENTO\n"
   ]
  },
  {
   "cell_type": "code",
   "execution_count": 203,
   "metadata": {},
   "outputs": [
    {
     "data": {
      "text/plain": [
       "[[' 2006-05-12 12:48:13', 'tricia', 'mars', 'gene', 'venus', '194925'],\n",
       " [' 2006-05-14 17:03:01', 'tricia', 'saturn', 'phil', 'venus', '2394482'],\n",
       " [' 2006-05-15 10:25:52', 'gene', 'mars', 'tricia', 'saturn', '998532']]"
      ]
     },
     "execution_count": 203,
     "metadata": {},
     "output_type": "execute_result"
    }
   ],
   "source": [
    "from operator import itemgetter\n",
    "sorted([row for row in file if int(row[5])>100000],key = itemgetter(5))"
   ]
  },
  {
   "cell_type": "code",
   "execution_count": 204,
   "metadata": {},
   "outputs": [
    {
     "data": {
      "text/plain": [
       "[[' 2006-05-12 12:48:13', 'tricia', 'mars', 'gene', 'venus', 194925],\n",
       " [' 2006-05-12 15:02:49', 'phil', 'mars', 'phil', 'saturn', 1048],\n",
       " [' 2006-05-13 13:59:18', 'barb', 'saturn', 'tricia', 'venus', 271],\n",
       " [' 2006-05-14 09:31:37', 'gene', 'venus', 'barb', 'mars', 2291],\n",
       " [' 2006-05-14 11:52:17', 'phil', 'mars', 'tricia', 'saturn', 5781],\n",
       " [' 2006-05-14 14:42:21', 'barb', 'venus', 'barb', 'venus', 98151],\n",
       " [' 2006-05-14 17:03:01', 'tricia', 'saturn', 'phil', 'venus', 2394482],\n",
       " [' 2006-05-15 07:17:48', 'gene', 'mars', 'gene', 'saturn', 3824],\n",
       " [' 2006-05-15 08:50:57', 'phil', 'venus', 'phil', 'venus', 978],\n",
       " [' 2006-05-15 10:25:52', 'gene', 'mars', 'tricia', 'saturn', 998532],\n",
       " [' 2006-05-15 17:35:31', 'gene', 'saturn', 'gene', 'mars', 3856],\n",
       " [' 2006-05-16 09:00:28', 'gene', 'venus', 'barb', 'mars', 613],\n",
       " [' 2006-05-16 23:04:19', 'phil', 'venus', 'barb', 'venus', 10294],\n",
       " [' 2006-05-17 12:49:23', 'phil', 'mars', 'tricia', 'saturn', 873],\n",
       " [' 2006-05-19 22:21:51', 'gene', 'saturn', 'gene', 'venus', 2399]]"
      ]
     },
     "execution_count": 204,
     "metadata": {},
     "output_type": "execute_result"
    }
   ],
   "source": [
    "file = [[element if index != 5 else int(element) for index, element in enumerate(row)] for row in file]\n",
    "file"
   ]
  },
  {
   "cell_type": "code",
   "execution_count": 205,
   "metadata": {},
   "outputs": [
    {
     "data": {
      "text/plain": [
       "[[' 2006-05-12 12:48:13', 'tricia', 'mars', 'gene', 'venus', 194925],\n",
       " [' 2006-05-15 10:25:52', 'gene', 'mars', 'tricia', 'saturn', 998532],\n",
       " [' 2006-05-14 17:03:01', 'tricia', 'saturn', 'phil', 'venus', 2394482]]"
      ]
     },
     "execution_count": 205,
     "metadata": {},
     "output_type": "execute_result"
    }
   ],
   "source": [
    "sorted([row for row in file if int(row[5]) > 100000], key=itemgetter(5))"
   ]
  },
  {
   "cell_type": "code",
   "execution_count": 206,
   "metadata": {},
   "outputs": [
    {
     "data": {
      "text/plain": [
       "[[' 2006-05-14 14:42:21', 'barb', 'venus', 'barb', 'venus', 98151],\n",
       " [' 2006-05-13 13:59:18', 'barb', 'saturn', 'tricia', 'venus', 271],\n",
       " [' 2006-05-14 09:31:37', 'gene', 'venus', 'barb', 'mars', 2291],\n",
       " [' 2006-05-16 09:00:28', 'gene', 'venus', 'barb', 'mars', 613],\n",
       " [' 2006-05-15 07:17:48', 'gene', 'mars', 'gene', 'saturn', 3824],\n",
       " [' 2006-05-15 17:35:31', 'gene', 'saturn', 'gene', 'mars', 3856],\n",
       " [' 2006-05-19 22:21:51', 'gene', 'saturn', 'gene', 'venus', 2399],\n",
       " [' 2006-05-15 10:25:52', 'gene', 'mars', 'tricia', 'saturn', 998532],\n",
       " [' 2006-05-16 23:04:19', 'phil', 'venus', 'barb', 'venus', 10294],\n",
       " [' 2006-05-12 15:02:49', 'phil', 'mars', 'phil', 'saturn', 1048],\n",
       " [' 2006-05-15 08:50:57', 'phil', 'venus', 'phil', 'venus', 978],\n",
       " [' 2006-05-14 11:52:17', 'phil', 'mars', 'tricia', 'saturn', 5781],\n",
       " [' 2006-05-17 12:49:23', 'phil', 'mars', 'tricia', 'saturn', 873],\n",
       " [' 2006-05-12 12:48:13', 'tricia', 'mars', 'gene', 'venus', 194925],\n",
       " [' 2006-05-14 17:03:01', 'tricia', 'saturn', 'phil', 'venus', 2394482]]"
      ]
     },
     "execution_count": 206,
     "metadata": {},
     "output_type": "execute_result"
    }
   ],
   "source": [
    "sorted([row for row in file], key=itemgetter(1,3))"
   ]
  },
  {
   "cell_type": "markdown",
   "metadata": {},
   "source": [
    "# JOINS\n"
   ]
  },
  {
   "cell_type": "code",
   "execution_count": 7,
   "metadata": {},
   "outputs": [
    {
     "data": {
      "text/plain": [
       "[['1', 'MSN', '  user1-msnid'],\n",
       " ['2', ' AIM', 'user2-aimid'],\n",
       " ['2', 'MSN', '  user2-msnid'],\n",
       " ['2', ' Yahoo', 'user2-yahooid'],\n",
       " ['4', 'Yahoo', '  user4-yahooi']]"
      ]
     },
     "execution_count": 7,
     "metadata": {},
     "output_type": "execute_result"
    }
   ],
   "source": [
    "profile_contact = open('archivos/profile_contact.csv','r').readlines()\n",
    "profile_contact = [row[0:-1] for row in profile_contact]\n",
    "profile_contact = [row.split(',') for row in profile_contact]\n",
    "profile_contact = profile_contact[1:]\n",
    "profile_contact"
   ]
  },
  {
   "cell_type": "code",
   "execution_count": 16,
   "metadata": {},
   "outputs": [
    {
     "data": {
      "text/plain": [
       "[[' Mort', ' 1969-09-30', ' white', ' burrito:curry:eggroll', ' 3'],\n",
       " [' Brit', ' 1957-12-01', ' red', ' burrito:curry:pizza', ' 1'],\n",
       " [' Carl', ' 1973-11-02', ' red', ' eggroll:pizza', ' 4'],\n",
       " [' Sean', ' 1963-07-04', ' blue', ' burrito:curry', ' 5'],\n",
       " [' Alan', ' 1965-02-14', ' red', ' curry:fadge', ' 1'],\n",
       " [' Mara', ' 1968-09-17', ' green', ' lutefisk:fadge', ' 1'],\n",
       " [' Shepard', \" '1975-09-02\", ' black', ' curry:pizza', ' 2'],\n",
       " [' Dick', ' 1952-08-20', ' green', ' lutefisk:fadge', ' 0'],\n",
       " [' Tony', ' 1960-05-01', ' white', ' burrito:pizza', ' ']]"
      ]
     },
     "execution_count": 16,
     "metadata": {},
     "output_type": "execute_result"
    }
   ],
   "source": [
    "#Archivo #2 profile\n",
    "profile = open('archivos/profile.csv','r').readlines()\n",
    "profile = [row[0:-1]for row in profile]\n",
    "profile = [row.split(',')for row in profile]\n",
    "profile = profile[1:]\n",
    "profile"
   ]
  },
  {
   "cell_type": "code",
   "execution_count": null,
   "metadata": {},
   "outputs": [],
   "source": []
  }
 ],
 "metadata": {
  "kernelspec": {
   "display_name": "Python 3",
   "language": "python",
   "name": "python3"
  },
  "language_info": {
   "codemirror_mode": {
    "name": "ipython",
    "version": 3
   },
   "file_extension": ".py",
   "mimetype": "text/x-python",
   "name": "python",
   "nbconvert_exporter": "python",
   "pygments_lexer": "ipython3",
   "version": "3.7.3"
  }
 },
 "nbformat": 4,
 "nbformat_minor": 2
}
